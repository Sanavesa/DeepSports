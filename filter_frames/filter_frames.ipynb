{
 "cells": [
  {
   "cell_type": "code",
   "execution_count": null,
   "metadata": {},
   "outputs": [],
   "source": [
    "# Requires framesXX.txt files in the same directory as this file.\n",
    "# Requires the extracted frames in the following directory local to this file: whole_videos_frames/XX"
   ]
  },
  {
   "cell_type": "code",
   "execution_count": null,
   "metadata": {},
   "outputs": [],
   "source": [
    "import os\n",
    "\n",
    "# reads in the framesXX.txt files which has the start-end frames for each video, then uses this to build a set of all used frames\n",
    "def get_used_frames(filename, verbose=True):\n",
    "    used_frames = set([])\n",
    "    with open(filename, \"r\") as f:\n",
    "        for line_num, line in enumerate(f.readlines()):\n",
    "            split = line.split(\",\")\n",
    "            if len(split) != 2:\n",
    "                if verbose:\n",
    "                    print(f\"[Info] Skipping line {line_num} as it had more than two columns: {split}\")\n",
    "                    continue\n",
    "            try:\n",
    "                start_frame = int(split[0])\n",
    "                end_frame = int(split[1])\n",
    "                used_frames.update(range(start_frame, end_frame+1))\n",
    "            except:\n",
    "                if verbose:\n",
    "                    print(f\"[Info] Skipping line {line_num} as it failed frame values parsing: {split}\")\n",
    "    return used_frames\n",
    "\n",
    "# given a directory (i.e. whole_video_frames/26) and the used_frames set from get_used_frames(), it will remove any frame not found in the used set\n",
    "def remove_unused_frames(directory, used_frames):\n",
    "    print(f\"Processing {directory}...\")\n",
    "    total_files = 0\n",
    "    removed_files = 0\n",
    "    for filename in os.listdir(directory):\n",
    "        f = os.path.join(directory, filename)\n",
    "        if os.path.isfile(f):\n",
    "            frame = int(filename.replace(\".jpg\", \"\"))\n",
    "            total_files += 1\n",
    "            if frame not in used_frames:\n",
    "                removed_files += 1\n",
    "                os.remove(f)\n",
    "            if total_files % 10000 == 0:\n",
    "                print(f\"\\tProcessed {total_files} files so far...\")\n",
    "    print(f\"\\n\\tDone! {directory} had {total_files} frames, removed {100.0 * removed_files / total_files:.2f}% unused frames.\\n\")"
   ]
  },
  {
   "cell_type": "code",
   "execution_count": null,
   "metadata": {},
   "outputs": [],
   "source": [
    "# To run them all:\n",
    "for i in [\"01\", \"02\", \"03\", \"04\", \"07\", \"09\", \"10\", \"13\", \"14\", \"17\", \"18\", \"22\", \"26\"]:\n",
    "    used_frames = get_used_frames(f\"frames{i}.txt\")\n",
    "    remove_unused_frames(f\"whole_videos_frames/{i}\", used_frames)"
   ]
  }
 ],
 "metadata": {
  "interpreter": {
   "hash": "7b89f1b84983c559dac739733dcea4ad2abe6dead7bb9096ab1b6c922cc3d892"
  },
  "kernelspec": {
   "display_name": "Python 3.7.9 64-bit",
   "language": "python",
   "name": "python3"
  },
  "language_info": {
   "codemirror_mode": {
    "name": "ipython",
    "version": 3
   },
   "file_extension": ".py",
   "mimetype": "text/x-python",
   "name": "python",
   "nbconvert_exporter": "python",
   "pygments_lexer": "ipython3",
   "version": "3.7.9"
  },
  "orig_nbformat": 4
 },
 "nbformat": 4,
 "nbformat_minor": 2
}
