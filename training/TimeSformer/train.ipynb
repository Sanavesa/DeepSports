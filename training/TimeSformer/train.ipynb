{
 "cells": [
  {
   "cell_type": "code",
   "execution_count": 1,
   "metadata": {},
   "outputs": [],
   "source": [
    "import torch\n",
    "import torch.nn as nn\n",
    "import torch.optim as optim\n",
    "from torch.utils.data import DataLoader, Dataset\n",
    "\n",
    "from torchvision import transforms\n",
    "\n",
    "from PIL import Image\n",
    "\n",
    "import numpy as np\n",
    "from timesformer.models.vit import TimeSformer\n",
    "\n",
    "import matplotlib.pyplot as plt\n",
    "%matplotlib inline"
   ]
  },
  {
   "cell_type": "code",
   "execution_count": 2,
   "metadata": {},
   "outputs": [],
   "source": [
    "class DivingViT(nn.Module):\n",
    "    def __init__(self, pretrained_model, drop_prob=0.5, freeze=False, num_classes=1):\n",
    "        \"\"\"\n",
    "        Builds upon the TimeSformer model with additional MLP layers of (512 > 256 > num_classes).\n",
    "\n",
    "        Args:\n",
    "            pretrained_model (TimeSformer): A pretrained instance of TimeSformer of 8 frames and 224x224.\n",
    "            drop_prob (float, optional): Drop probability for dropout after the TimeSformer model. Defaults to 0.5.\n",
    "            freeze (bool, optional): Whether to freeze the pretrained model weights or also add them to the gradient updates. Defaults to False.\n",
    "            num_classes (int, optional): The number of output classes. Defaults to 1.\n",
    "        \"\"\"\n",
    "        super(DivingViT, self).__init__()\n",
    "        \n",
    "        self.pretrained_model = pretrained_model\n",
    "        if freeze:\n",
    "            pretrained_model.requires_grad_ = False\n",
    "            \n",
    "        self.dropout = nn.Dropout(p=drop_prob)\n",
    "        self.linears = nn.Sequential(\n",
    "            nn.Linear(in_features=768, out_features=512),\n",
    "            nn.Linear(in_features=512, out_features=256),\n",
    "            nn.Linear(in_features=256, out_features=num_classes)\n",
    "        )\n",
    "        \n",
    "    def forward(self, x):\n",
    "        \"\"\"\n",
    "        Computes the forward pass of the model. The input must be in the shape (batch, channels, frames, height, width).\n",
    "        The output will have the shape of (batch, num_classes).\n",
    "\n",
    "        Args:\n",
    "            x (torch.Tensor): The input to the model. It is in the shape (batch, channels, frames, height, width).\n",
    "\n",
    "        Returns:\n",
    "            torch.Tensor: Returns the output of the model. It is in the shape (batch, num_classes).\n",
    "        \"\"\"\n",
    "        out = self.pretrained_model(x) # (batch, 768)\n",
    "        out = self.dropout(out) # (batch, 768)\n",
    "        out = self.linears(out) # (batch, num_classes)\n",
    "        return out"
   ]
  },
  {
   "cell_type": "code",
   "execution_count": 3,
   "metadata": {},
   "outputs": [
    {
     "name": "stdout",
     "output_type": "stream",
     "text": [
      "Loading dataset...\n",
      "Found 341 in dataset/01.csv.\n",
      "Loaded 341 clips in the dataset.\n"
     ]
    }
   ],
   "source": [
    "# Convertor between PIL to Pytorch Tensor\n",
    "convert_tensor = transforms.ToTensor()\n",
    "\n",
    "# A data class to hold a single video clip\n",
    "class VideoClip:\n",
    "    PATH_TO_FRAMES = \"D:/MTL-AQA-Frames/\"\n",
    "    def __init__(self, video_num, start_frame, end_frame, difficulty, final_score):\n",
    "        self.video_num = video_num\n",
    "        self.start_frame = start_frame\n",
    "        self.end_frame = end_frame\n",
    "        self.difficulty = difficulty\n",
    "        self.final_score = final_score\n",
    "    \n",
    "    def load(self):\n",
    "        # Computes the number of frames in the clip\n",
    "        clip_num_frames = self.end_frame - self.start_frame + 1\n",
    "        \n",
    "        # Creates the video clip in torch with (channels x frames x height x width)\n",
    "        clip = torch.empty(size=(3, 8, 224, 224), dtype=torch.float32)\n",
    "        \n",
    "        # Since we are constrained to 8 frames, pick 8 frames from the entire clip\n",
    "        step_size = clip_num_frames // 8 + 1\n",
    "        for idx, frame_num in enumerate(range(self.start_frame, self.end_frame + 1, step_size)):\n",
    "            img_path = VideoClip.PATH_TO_FRAMES + f\"{self.video_num:02d}/{frame_num:06d}.jpg\"\n",
    "            img = Image.open(img_path).resize((224, 224))\n",
    "            tensor = convert_tensor(img).type(dtype=torch.float32) # (channels x height x width)\n",
    "            clip[:, idx, :, :] = tensor\n",
    "        \n",
    "        # Generate the outputs/targets for this clip\n",
    "        target = torch.tensor([self.final_score], dtype=torch.float32)\n",
    "        return clip, target\n",
    "\n",
    "clips_dataset = []\n",
    "print(f\"Loading dataset...\")\n",
    "\n",
    "# Loads all the video clips from the dataset textfile that Mohammad generates. They're in the format video_num,start_frame,end_frame,difficulty,final_score\n",
    "# where video_num is the video number it came from (01.mp4 is 1, 02.mp4 is 2, etc.)\n",
    "def load_dataset_file(filename):\n",
    "    loaded_clips = []\n",
    "    with open(filename, \"r\") as f:\n",
    "        # Read all lines, but skip the header\n",
    "        for line in f.readlines()[1:]:\n",
    "            # format: video_num,start_frame,end_frame,difficulty,final_score\n",
    "            split = line.split(\",\")\n",
    "            \n",
    "            # TODO: Add better checking and error handling\n",
    "            video_num = int(split[0])\n",
    "            start_frame = int(split[1])\n",
    "            end_frame = int(split[2])\n",
    "            difficulty = float(split[3])\n",
    "            final_score = float(split[4])\n",
    "            loaded_clips.append(VideoClip(video_num, start_frame, end_frame, difficulty, final_score))\n",
    "    print(f\"Found {len(loaded_clips)} in {filename}.\")\n",
    "    return loaded_clips\n",
    "\n",
    "clips_dataset.extend(load_dataset_file(\"dataset/01.csv\"))\n",
    "# clips_dataset.extend(load_dataset_file(\"dataset/02.csv\"))\n",
    "# clips_dataset.extend(load_dataset_file(\"dataset/03.csv\"))\n",
    "# clips_dataset.extend(load_dataset_file(\"dataset/04.csv\"))\n",
    "\n",
    "print(f\"Loaded {len(clips_dataset)} clips in the dataset.\")"
   ]
  },
  {
   "cell_type": "code",
   "execution_count": 4,
   "metadata": {},
   "outputs": [],
   "source": [
    "class MyDataset(Dataset):\n",
    "    def __init__(self, clips_dataset):\n",
    "        self.clips_dataset = clips_dataset\n",
    "        \n",
    "    def __len__(self):\n",
    "        return len(self.clips_dataset)\n",
    "\n",
    "    def __getitem__(self, index):\n",
    "        return self.clips_dataset[index].load()\n",
    "\n",
    "train_dataset = MyDataset(clips_dataset)"
   ]
  },
  {
   "cell_type": "code",
   "execution_count": 5,
   "metadata": {},
   "outputs": [],
   "source": [
    "batch_size = 2\n",
    "train_data_loader = DataLoader(train_dataset, batch_size=batch_size, shuffle=True)"
   ]
  },
  {
   "cell_type": "code",
   "execution_count": 6,
   "metadata": {},
   "outputs": [
    {
     "name": "stdout",
     "output_type": "stream",
     "text": [
      "Epoch 1/3 \t train_loss: 4116.3033\n",
      "Epoch 2/3 \t train_loss: 399.7047\n",
      "Epoch 3/3 \t train_loss: 227.0480\n"
     ]
    }
   ],
   "source": [
    "device = torch.device('cuda:0' if torch.cuda.is_available() else 'cpu')\n",
    "epochs = 3\n",
    "learning_rate = 1e-5\n",
    "\n",
    "path = \"D:/Programming/Github/DeepSports/training/TimeSformer/TimeSformer_divST_8x32_224_K400.pyth\"\n",
    "pretrained_model = TimeSformer(img_size=224, num_classes=768, num_frames=8, attention_type='divided_space_time',  pretrained_model=path)\n",
    "model = DivingViT(pretrained_model, drop_prob=0.5, freeze=False, num_classes=1).to(device)\n",
    "\n",
    "opt = optim.Adam(params=model.parameters(), lr=learning_rate)\n",
    "criterion = nn.MSELoss()\n",
    "\n",
    "plot_data = {\n",
    "    \"train_loss\": []\n",
    "}\n",
    "\n",
    "for epoch in range(epochs):\n",
    "    train_loss = []\n",
    "    \n",
    "    # Training\n",
    "    for (inputs, targets) in train_data_loader:\n",
    "        inputs, targets = inputs.to(device), targets.to(device)\n",
    "        outputs = model(inputs)\n",
    "        loss = criterion(outputs, targets)\n",
    "        opt.zero_grad()\n",
    "        loss.backward()\n",
    "        opt.step()\n",
    "        train_loss.append(loss.item())\n",
    "    print(f\"Epoch {epoch+1}/{epochs} \\t train_loss: {np.mean(train_loss):.4f}\")\n",
    "    plot_data[\"train_loss\"].append(np.mean(train_loss))\n",
    "    \n",
    "    # Validation every 10th epoch\n",
    "    # if epoch % 10 == 0:\n",
    "    #     val_loss = []\n",
    "    #     with torch.no_grad():\n",
    "    #         for (inputs, targets) in train_data_loader:\n",
    "    #             inputs, targets = inputs.to(device), targets.to(device)\n",
    "    #             outputs = model(inputs)\n",
    "    #             loss = criterion(outputs, targets)\n",
    "    #             val_loss.append(loss.item())\n",
    "    #             print('Outputs', outputs)\n",
    "    #             print('Targets', targets)\n",
    "    #     print(f\"Epoch {epoch+1}/{epochs} \\t val_loss: {np.mean(val_loss):.4f}\")"
   ]
  },
  {
   "cell_type": "code",
   "execution_count": 7,
   "metadata": {},
   "outputs": [
    {
     "data": {
      "image/png": "[encoded data removed]",
      "text/plain": [
       "<Figure size 720x360 with 1 Axes>"
      ]
     },
     "metadata": {
      "needs_background": "light"
     },
     "output_type": "display_data"
    }
   ],
   "source": [
    "# Plot the training loss\n",
    "\n",
    "fig = plt.figure(figsize = (10, 5))\n",
    "\n",
    "epochs_range = list(range(1, epochs+1))\n",
    "\n",
    "ax1 = plt.subplot(121)\n",
    "ax1.plot(epochs_range, plot_data[\"train_loss\"], label=\"train_loss\")\n",
    "ax1.title.set_text(\"Loss\")\n",
    "ax1.legend()\n",
    "ax1.set_ylabel(\"Loss\")\n",
    "ax1.set_xlabel(\"Epoch\")\n",
    "\n",
    "plt.show()"
   ]
  },
  {
   "cell_type": "code",
   "execution_count": 10,
   "metadata": {},
   "outputs": [
    {
     "name": "stdout",
     "output_type": "stream",
     "text": [
      "Predicted 78.69\tExpected 95.20\n",
      "Predicted 70.64\tExpected 81.60\n",
      "Predicted 78.81\tExpected 72.00\n",
      "Predicted 73.27\tExpected 54.45\n",
      "Predicted 71.59\tExpected 51.20\n",
      "Predicted 73.76\tExpected 81.00\n",
      "Predicted 74.83\tExpected 66.00\n",
      "Predicted 74.24\tExpected 54.45\n",
      "Predicted 74.86\tExpected 70.20\n",
      "Predicted 73.65\tExpected 76.50\n",
      "Predicted 73.97\tExpected 44.55\n",
      "Predicted 73.94\tExpected 37.95\n",
      "Predicted 73.94\tExpected 64.35\n",
      "Predicted 74.32\tExpected 67.20\n",
      "Predicted 78.96\tExpected 84.15\n",
      "Predicted 71.92\tExpected 97.20\n",
      "Predicted 76.02\tExpected 85.80\n",
      "Predicted 74.57\tExpected 37.70\n",
      "Predicted 75.66\tExpected 49.50\n",
      "Predicted 75.59\tExpected 37.95\n",
      "Predicted 74.17\tExpected 93.60\n",
      "Predicted 74.65\tExpected 59.40\n",
      "Predicted 71.64\tExpected 76.50\n",
      "Predicted 75.32\tExpected 62.40\n",
      "Predicted 74.71\tExpected 66.60\n",
      "Predicted 75.42\tExpected 64.35\n",
      "Predicted 76.58\tExpected 81.60\n",
      "Predicted 74.10\tExpected 72.00\n",
      "Predicted 68.19\tExpected 89.10\n",
      "Predicted 74.35\tExpected 86.40\n",
      "Epoch 3/3 \t val_loss: 228.4892\n"
     ]
    }
   ],
   "source": [
    "# See how the predictions were close to the real value\n",
    "val_loss = []\n",
    "\n",
    "with torch.no_grad():\n",
    "    _outputs = []\n",
    "    _targets = []\n",
    "    for (inputs, targets) in train_data_loader:\n",
    "        inputs, targets = inputs.to(device), targets.to(device)\n",
    "        outputs = model(inputs)\n",
    "        loss = criterion(outputs, targets)\n",
    "        val_loss.append(loss.item())\n",
    "        \n",
    "        # TODO: This is bad code!\n",
    "        _outputs.append(outputs[0].item())\n",
    "        _targets.append(targets[0].item())\n",
    "    \n",
    "    for i in range(min(30, len(_outputs))): # Use this for loop to show some of the predictions\n",
    "    # for i in range(len(_outputs)): # Use this for loop to show ALL predictions\n",
    "        print(f\"Predicted {_outputs[i]:.2f}\\tExpected {_targets[i]:.2f}\")\n",
    "\n",
    "print(f\"Epoch {epoch+1}/{epochs} \\t val_loss: {np.mean(val_loss):.4f}\")"
   ]
  }
 ],
 "metadata": {
  "interpreter": {
   "hash": "7b89f1b84983c559dac739733dcea4ad2abe6dead7bb9096ab1b6c922cc3d892"
  },
  "kernelspec": {
   "display_name": "Python 3.7.9 64-bit",
   "language": "python",
   "name": "python3"
  },
  "language_info": {
   "codemirror_mode": {
    "name": "ipython",
    "version": 3
   },
   "file_extension": ".py",
   "mimetype": "text/x-python",
   "name": "python",
   "nbconvert_exporter": "python",
   "pygments_lexer": "ipython3",
   "version": "3.7.9"
  },
  "orig_nbformat": 4
 },
 "nbformat": 4,
 "nbformat_minor": 2
}
